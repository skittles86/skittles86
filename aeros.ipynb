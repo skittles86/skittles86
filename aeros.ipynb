{
  "cells": [
    {
      "cell_type": "markdown",
      "metadata": {
        "id": "view-in-github",
        "colab_type": "text"
      },
      "source": [
        "<a href=\"https://colab.research.google.com/github/skittles86/skittles86/blob/main/aeros.ipynb\" target=\"_parent\"><img src=\"https://colab.research.google.com/assets/colab-badge.svg\" alt=\"Open In Colab\"/></a>"
      ]
    },
    {
      "cell_type": "code",
      "execution_count": 1,
      "metadata": {
        "id": "sBbcB4vwj_jm",
        "colab": {
          "base_uri": "https://localhost:8080/"
        },
        "outputId": "4c2492b0-ebc6-4c9b-d38e-c8c2aa486a99"
      },
      "outputs": [
        {
          "output_type": "stream",
          "name": "stdout",
          "text": [
            "Cloning into 'stable-diffusion-webui'...\n",
            "remote: Enumerating objects: 16079, done.\u001b[K\n",
            "remote: Total 16079 (delta 0), reused 0 (delta 0), pack-reused 16079\u001b[K\n",
            "Receiving objects: 100% (16079/16079), 27.20 MiB | 23.05 MiB/s, done.\n",
            "Resolving deltas: 100% (11292/11292), done.\n",
            "Cloning into '/content/stable-diffusion-webui/extensions/stable-diffusion-webui-images-browser'...\n",
            "remote: Enumerating objects: 143, done.\u001b[K\n",
            "remote: Counting objects: 100% (34/34), done.\u001b[K\n",
            "remote: Compressing objects: 100% (12/12), done.\u001b[K\n",
            "remote: Total 143 (delta 25), reused 22 (delta 22), pack-reused 109\u001b[K\n",
            "Receiving objects: 100% (143/143), 37.96 KiB | 7.59 MiB/s, done.\n",
            "Resolving deltas: 100% (51/51), done.\n",
            "  % Total    % Received % Xferd  Average Speed   Time    Time     Time  Current\n",
            "                                 Dload  Upload   Total   Spent    Left  Speed\n",
            "100  1123  100  1123    0     0   3093      0 --:--:-- --:--:-- --:--:--  3093\n",
            "100 3748M  100 3748M    0     0   231M      0  0:00:16  0:00:16 --:--:--  238M\n",
            "  % Total    % Received % Xferd  Average Speed   Time    Time     Time  Current\n",
            "                                 Dload  Upload   Total   Spent    Left  Speed\n",
            "100  1175  100  1175    0     0    812      0  0:00:01  0:00:01 --:--:--   812\n",
            "100  319M  100  319M    0     0   137M      0  0:00:02  0:00:02 --:--:--  383M\n",
            "  % Total    % Received % Xferd  Average Speed   Time    Time     Time  Current\n",
            "                                 Dload  Upload   Total   Spent    Left  Speed\n",
            "100  1121  100  1121    0     0   3148      0 --:--:-- --:--:-- --:--:--  3140\n",
            "100  109M  100  109M    0     0  67.7M      0  0:00:01  0:00:01 --:--:-- 89.2M\n",
            "/content/stable-diffusion-webui\n",
            "Note: switching to '91c8d0d'.\n",
            "\n",
            "You are in 'detached HEAD' state. You can look around, make experimental\n",
            "changes and commit them, and you can discard any commits you make in this\n",
            "state without impacting any branches by switching back to a branch.\n",
            "\n",
            "If you want to create a new branch to retain commits you create, you may\n",
            "do so (now or later) by using -c with the switch command. Example:\n",
            "\n",
            "  git switch -c <new-branch-name>\n",
            "\n",
            "Or undo this operation with:\n",
            "\n",
            "  git switch -\n",
            "\n",
            "Turn off this advice by setting config variable advice.detachedHead to false\n",
            "\n",
            "HEAD is now at 91c8d0d Merge pull request #7231 from EllangoK/master\n",
            "Python 3.8.10 (default, Nov 14 2022, 12:59:47) \n",
            "[GCC 9.4.0]\n",
            "Commit hash: 91c8d0dcfc9a5d46aec47fd3eb34c633c104b5bb\n",
            "Installing gfpgan\n",
            "Installing clip\n",
            "Installing open_clip\n",
            "Installing xformers\n",
            "Cloning Stable Diffusion into repositories/stable-diffusion-stability-ai...\n",
            "Cloning Taming Transformers into repositories/taming-transformers...\n",
            "Cloning K-diffusion into repositories/k-diffusion...\n",
            "Cloning CodeFormer into repositories/CodeFormer...\n",
            "Cloning BLIP into repositories/BLIP...\n",
            "Installing requirements for CodeFormer\n",
            "Installing requirements for Web UI\n",
            "Launching Web UI with arguments: --share --disable-safe-unpickle --no-half-vae --xformers --enable-insecure-extension-access\n",
            "Calculating sha256 for /content/stable-diffusion-webui/models/Stable-diffusion/aeros.ckpt: fcc4169fc6d86a584f03855071038ceb8a15d2d96fb112827169662aa4a0785b\n",
            "Loading weights [fcc4169fc6] from /content/stable-diffusion-webui/models/Stable-diffusion/aeros.ckpt\n",
            "Creating model from config: /content/stable-diffusion-webui/configs/v1-inference.yaml\n",
            "LatentDiffusion: Running in eps-prediction mode\n",
            "DiffusionWrapper has 859.52 M params.\n",
            "Downloading (…)olve/main/vocab.json: 100% 961k/961k [00:00<00:00, 1.90MB/s]\n",
            "Downloading (…)olve/main/merges.txt: 100% 525k/525k [00:00<00:00, 1.24MB/s]\n",
            "Downloading (…)cial_tokens_map.json: 100% 389/389 [00:00<00:00, 126kB/s]\n",
            "Downloading (…)okenizer_config.json: 100% 905/905 [00:00<00:00, 329kB/s]\n",
            "Downloading (…)lve/main/config.json: 100% 4.52k/4.52k [00:00<00:00, 425kB/s]\n",
            "Loading VAE weights found near the checkpoint: /content/stable-diffusion-webui/models/Stable-diffusion/aeros.vae.pt\n",
            "Applying xformers cross attention optimization.\n",
            "Textual inversion embeddings loaded(0): \n",
            "Model loaded in 46.4s (calculate hash: 23.6s, load weights from disk: 3.0s, create model: 6.0s, apply weights to model: 2.1s, apply half(): 1.5s, load VAE: 9.5s, move model to device: 0.6s, load textual inversion embeddings: 0.1s).\n",
            "Checkpoint aeros.ckpt [fcc4169fc6] not found; loading fallback aeros.ckpt [fcc4169fc6]\n",
            "Running on local URL:  http://127.0.0.1:7860\n",
            "Running on public URL: https://920f7df2-6c6c-429e.gradio.live\n",
            "\n",
            "This share link expires in 72 hours. For free permanent hosting and GPU upgrades (NEW!), check out Spaces: https://huggingface.co/spaces\n",
            "  0% 0/20 [00:00<?, ?it/s]\n",
            "  5% 1/20 [00:06<01:57,  6.16s/it]\n",
            " 15% 3/20 [00:06<00:25,  1.53s/it]\n",
            " 20% 4/20 [00:06<00:15,  1.00it/s]\n",
            " 25% 5/20 [00:06<00:10,  1.41it/s]\n",
            " 30% 6/20 [00:07<00:07,  1.88it/s]\n",
            " 35% 7/20 [00:07<00:05,  2.38it/s]\n",
            " 40% 8/20 [00:07<00:04,  2.87it/s]\n",
            " 45% 9/20 [00:07<00:03,  3.35it/s]\n",
            " 50% 10/20 [00:07<00:02,  3.76it/s]\n",
            " 55% 11/20 [00:08<00:02,  4.11it/s]\n",
            " 60% 12/20 [00:08<00:01,  4.40it/s]\n",
            " 65% 13/20 [00:08<00:01,  4.63it/s]\n",
            " 70% 14/20 [00:08<00:01,  4.78it/s]\n",
            " 75% 15/20 [00:08<00:01,  4.90it/s]\n",
            " 80% 16/20 [00:09<00:00,  4.99it/s]\n",
            " 85% 17/20 [00:09<00:00,  5.04it/s]\n",
            " 90% 18/20 [00:09<00:00,  4.82it/s]\n",
            " 95% 19/20 [00:09<00:00,  4.42it/s]\n",
            "100% 20/20 [00:09<00:00,  2.02it/s]\n",
            "Total progress: 100% 20/20 [00:08<00:00,  2.43it/s]\n",
            "Downloading: \"https://heibox.uni-heidelberg.de/f/578df07c8fc04ffbadf3/?dl=1\" to /content/stable-diffusion-webui/models/LDSR/model.ckpt\n",
            "\n",
            "100% 1.90G/1.90G [02:09<00:00, 15.7MB/s]\n",
            "Downloading: \"https://heibox.uni-heidelberg.de/f/31a76b13ea27482981b4/?dl=1\" to /content/stable-diffusion-webui/models/LDSR/project.yaml\n",
            "\n",
            "100% 1.86k/1.86k [00:00<00:00, 245kB/s]\n",
            "Loading model from /content/stable-diffusion-webui/models/LDSR/model.ckpt\n",
            "LatentDiffusionV1: Running in eps-prediction mode\n",
            "DiffusionWrapperV1 has 113.62 M params.\n",
            "Keeping EMAs of 308.\n",
            "Applying xformers cross attention optimization.\n",
            "Downsampling from [512, 512] to [1024, 1024]\n",
            "Plotting: Switched to EMA weights\n",
            "Sampling with eta = 1.0; steps: 100\n",
            "Data shape for DDIM sampling is (1, 3, 1024, 1024), eta 1.0\n",
            "Running DDIM Sampling with 100 timesteps\n",
            "DDIM Sampler: 100% 100/100 [25:50<00:00, 15.51s/it]\n",
            "Plotting: Restored training weights\n",
            "Interrupted with signal 2 in <frame at 0x91654000, file '/content/stable-diffusion-webui/webui.py', line 164, code wait_on_server>\n"
          ]
        }
      ],
      "source": [
        "!git clone https://github.com/AUTOMATIC1111/stable-diffusion-webui\n",
        "!git clone https://github.com/yfszzx/stable-diffusion-webui-images-browser /content/stable-diffusion-webui/extensions/stable-diffusion-webui-images-browser\n",
        "!curl -Lo aeros.ckpt https://huggingface.co/nolanaatama/aeros/resolve/main/aeros.ckpt\n",
        "!curl -Lo aeros.vae.pt https://huggingface.co/stabilityai/sd-vae-ft-mse-original/resolve/main/vae-ft-mse-840000-ema-pruned.ckpt\n",
        "!curl -Lo mjv4.pt https://huggingface.co/Hamaru/MJV4_Hypernetwork/resolve/main/Midjourney.pt\n",
        "!mkdir \"/content/stable-diffusion-webui/models/hypernetworks\"\n",
        "!mv \"/content/aeros.ckpt\" \"/content/stable-diffusion-webui/models/Stable-diffusion\"\n",
        "!mv \"/content/aeros.vae.pt\" \"/content/stable-diffusion-webui/models/Stable-diffusion\"\n",
        "!mv \"/content/mjv4.pt\" \"/content/stable-diffusion-webui/models/hypernetworks\"\n",
        "%cd /content/stable-diffusion-webui\n",
        "!git checkout 91c8d0d\n",
        "!COMMANDLINE_ARGS=\"--share --disable-safe-unpickle --no-half-vae --xformers --reinstall-xformers --enable-insecure-extension-access\" REQS_FILE=\"requirements.txt\" python launch.py"
      ]
    },
    {
      "cell_type": "markdown",
      "metadata": {
        "id": "fhwIXzcgfkoR"
      },
      "source": [
        "# 📚 GitHub for more: [_@nolanaatama_](https://github.com/nolanaatama)\n",
        "# 📦 Repo: [Github](https://github.com/nolanaatama/sd-1click-colab)"
      ]
    }
  ],
  "metadata": {
    "accelerator": "GPU",
    "colab": {
      "provenance": [],
      "include_colab_link": true
    },
    "gpuClass": "standard",
    "kernelspec": {
      "display_name": "Python 3",
      "name": "python3"
    },
    "language_info": {
      "name": "python"
    }
  },
  "nbformat": 4,
  "nbformat_minor": 0
}